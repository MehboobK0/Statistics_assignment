{
 "cells": [
  {
   "cell_type": "markdown",
   "id": "36ebee23",
   "metadata": {},
   "source": [
    "Q1: The Probability Mass Function (PMF) and Probability Density Function (PDF) are both mathematical concepts used in probability theory and statistics to describe the probability distribution of a random variable.\n",
    "\n",
    "Probability Mass Function (PMF): For a discrete random variable, the PMF gives the probability that the variable takes on a specific value. It maps each possible value of the random variable to its probability of occurrence.\n",
    "Example: Consider a fair six-sided die. The PMF for this die assigns a probability of \n",
    "1\n",
    "6\n",
    "6\n",
    "1\n",
    "​\n",
    "  to each of the numbers 1 through 6, as each outcome has an equal chance of occurring.\n",
    "\n",
    "Probability Density Function (PDF): For a continuous random variable, the PDF gives the probability density at each possible value of the variable. Unlike the PMF, the PDF doesn't directly give the probability of a specific outcome but rather the likelihood of the variable falling within a certain range.\n",
    "Example: The PDF of a standard normal distribution (bell-shaped curve) gives the probability density for all real numbers. The area under the curve between two points represents the probability that the variable falls within that range."
   ]
  },
  {
   "cell_type": "markdown",
   "id": "ba5e4c22",
   "metadata": {},
   "source": [
    "Q2: The Cumulative Density Function (CDF) describes the probability that a random variable takes on a value less than or equal to a given value. It gives the cumulative probability up to that point.\n",
    "\n",
    "Example: Consider a standard normal distribution. The CDF at a specific point \n",
    "\n",
    "x represents the probability that a standard normal random variable is less than or equal to \n",
    "\n",
    "x.\n",
    "\n",
    "The CDF is useful because it provides a way to calculate probabilities for continuous distributions, and it can be used to find percentiles and make statistical inferences."
   ]
  },
  {
   "cell_type": "code",
   "execution_count": 1,
   "id": "b0d71056",
   "metadata": {},
   "outputs": [],
   "source": [
    "# Q3: The normal distribution, also known as the Gaussian distribution, is widely used to model various phenomena in fields such as natural and social sciences, engineering, and finance. Examples of situations where the normal distribution might be used include:\n",
    "\n",
    "# Heights of people in a population.\n",
    "# Errors in measurements or observations.\n",
    "# Test scores in a standardized exam.\n",
    "# IQ scores in a population.\n",
    "# The parameters of the normal distribution are the mean (μ) and the standard deviation (σ). The mean determines the central tendency of the distribution, while the standard deviation controls the spread or dispersion of the distribution. Larger standard deviations result in wider distributions, whereas smaller standard deviations result in narrower distributions."
   ]
  },
  {
   "cell_type": "code",
   "execution_count": 2,
   "id": "5c4e9d2d",
   "metadata": {},
   "outputs": [],
   "source": [
    "# Q4: The Normal Distribution is essential in statistics for several reasons:\n",
    "\n",
    "# It is commonly used in hypothesis testing, estimation, and making predictions due to its properties.\n",
    "# Many natural phenomena and human attributes approximate a normal distribution.\n",
    "# It serves as the foundation for various statistical techniques and models.\n",
    "# Real-life examples of phenomena approximated by a normal distribution include:\n",
    "\n",
    "# Heights of a population.\n",
    "# Weights of produce.\n",
    "# IQ scores.\n",
    "# Blood pressure measurements.\n",
    "# Errors in measurements or observations."
   ]
  },
  {
   "cell_type": "markdown",
   "id": "5e682372",
   "metadata": {},
   "source": [
    "Q5: Bernoulli Distribution is a discrete probability distribution that describes the outcomes of a single binary experiment (such as success/failure, yes/no, or heads/tails) with a fixed probability of success (\n",
    "\n",
    "p) and failure (\n",
    "1\n",
    "−\n",
    "\n",
    "1−p). An example could be flipping a biased coin where \"heads\" is considered a success and \"tails\" a failure.\n",
    "\n",
    "The main difference between Bernoulli Distribution and Binomial Distribution is that Bernoulli Distribution describes the outcome of a single trial, while Binomial Distribution describes the number of successes in a fixed number of independent Bernoulli trials."
   ]
  },
  {
   "cell_type": "code",
   "execution_count": null,
   "id": "8579e91c",
   "metadata": {},
   "outputs": [],
   "source": []
  }
 ],
 "metadata": {
  "kernelspec": {
   "display_name": "Python 3 (ipykernel)",
   "language": "python",
   "name": "python3"
  },
  "language_info": {
   "codemirror_mode": {
    "name": "ipython",
    "version": 3
   },
   "file_extension": ".py",
   "mimetype": "text/x-python",
   "name": "python",
   "nbconvert_exporter": "python",
   "pygments_lexer": "ipython3",
   "version": "3.9.12"
  }
 },
 "nbformat": 4,
 "nbformat_minor": 5
}
